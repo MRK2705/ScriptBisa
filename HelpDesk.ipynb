{
 "cells": [
  {
   "cell_type": "code",
   "execution_count": 2,
   "outputs": [],
   "source": [
    "import pandas as pd\n",
    "\n",
    "# Carga el archivo CSV\n",
    "df = pd.read_csv('E:/DataHelpDesk/HD_Reporte_v4.csv', delimiter=';')\n",
    "\n",
    "# Define la función para buscar coincidencias parciales\n",
    "def buscar_coincidencias(fila):\n",
    "    nombre_corto = fila['NOMBRE_CORTO'].lower()  # Convierte a minúsculas para hacer la búsqueda insensible a mayúsculas\n",
    "    asunto = str(fila['Asunto']).lower()  # Convierte 'Asunto' a cadena y a minúsculas\n",
    "    descripcion = str(fila['Descripción']).lower()  # Convierte 'Descripción' a cadena y a minúsculas\n",
    "\n",
    "    palabras_nombre_corto = nombre_corto.split()  # Divide la columna 'NOMBRE_CORTO' en palabras\n",
    "\n",
    "    # Verifica si al menos una palabra de 'NOMBRE_CORTO' está en 'Asunto' o 'Descripción'\n",
    "    for palabra in palabras_nombre_corto:\n",
    "        if palabra in asunto or palabra in descripcion:\n",
    "            return \"Encontrado\"\n",
    "\n",
    "    return \"No Encontrado\"\n",
    "\n",
    "# Aplicar la función a cada fila y crear una nueva columna 'Coincide'\n",
    "df['Coincide'] = df.apply(buscar_coincidencias, axis=1)\n",
    "\n",
    "# Guardar el DataFrame con la nueva columna en un nuevo archivo CSV\n",
    "df.to_csv('E:/DataHelpDesk/HD_Reporte_v4_con_coincidencias.csv', index=False)\n"
   ],
   "metadata": {
    "collapsed": false,
    "ExecuteTime": {
     "end_time": "2023-11-19T19:54:22.910013700Z",
     "start_time": "2023-11-19T19:54:21.254085100Z"
    }
   }
  },
  {
   "cell_type": "code",
   "execution_count": null,
   "outputs": [],
   "source": [],
   "metadata": {
    "collapsed": false
   }
  }
 ],
 "metadata": {
  "kernelspec": {
   "display_name": "Python 3",
   "language": "python",
   "name": "python3"
  },
  "language_info": {
   "codemirror_mode": {
    "name": "ipython",
    "version": 2
   },
   "file_extension": ".py",
   "mimetype": "text/x-python",
   "name": "python",
   "nbconvert_exporter": "python",
   "pygments_lexer": "ipython2",
   "version": "2.7.6"
  }
 },
 "nbformat": 4,
 "nbformat_minor": 0
}
